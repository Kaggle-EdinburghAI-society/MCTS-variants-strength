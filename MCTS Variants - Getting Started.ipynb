{
 "cells": [
  {
   "cell_type": "markdown",
   "id": "0f876c5f",
   "metadata": {
    "papermill": {
     "duration": 0.003759,
     "end_time": "2024-10-29T20:48:52.663797",
     "exception": false,
     "start_time": "2024-10-29T20:48:52.660038",
     "status": "completed"
    },
    "tags": []
   },
   "source": [
    "## Code submission example\n",
    "\n",
    "This competition is different than a standard Code competition. It uses a backend to serve chunks of the test data, which your model must run inference on before the next chunk is served. Because of this, you have to include some required code for your submission to work.\n",
    "\n",
    "The evaluation API requires that you set up a server which will respond to inference requests. We have already defined the server; you just need write the predict function. When we evaluate your submission on the hidden test set the client defined in `mcts_gateway` will run in a different container with direct access to the hidden test set and hand off the data in batches of 100.\n",
    "\n",
    "Your code will always have access to the published copies of the files."
   ]
  },
  {
   "cell_type": "code",
   "execution_count": 1,
   "id": "b47eac7e",
   "metadata": {
    "execution": {
     "iopub.execute_input": "2024-10-29T20:48:52.672133Z",
     "iopub.status.busy": "2024-10-29T20:48:52.671282Z",
     "iopub.status.idle": "2024-10-29T20:48:54.618344Z",
     "shell.execute_reply": "2024-10-29T20:48:54.617259Z"
    },
    "papermill": {
     "duration": 1.954427,
     "end_time": "2024-10-29T20:48:54.621394",
     "exception": false,
     "start_time": "2024-10-29T20:48:52.666967",
     "status": "completed"
    },
    "tags": []
   },
   "outputs": [],
   "source": [
    "import os\n",
    "import sys\n",
    "\n",
    "import polars as pl\n",
    "from sklearn.preprocessing import OrdinalEncoder\n",
    "from sklearn.ensemble import RandomForestRegressor\n",
    "\n",
    "from pathlib import Path\n",
    "comp_path = Path('/kaggle/input/um-game-playing-strength-of-mcts-variants')"
   ]
  },
  {
   "cell_type": "markdown",
   "id": "260aa0c4",
   "metadata": {
    "papermill": {
     "duration": 0.004072,
     "end_time": "2024-10-29T20:48:54.630082",
     "exception": false,
     "start_time": "2024-10-29T20:48:54.626010",
     "status": "completed"
    },
    "tags": []
   },
   "source": [
    "### Critical import"
   ]
  },
  {
   "cell_type": "code",
   "execution_count": 2,
   "id": "57f7f932",
   "metadata": {
    "execution": {
     "iopub.execute_input": "2024-10-29T20:48:54.649792Z",
     "iopub.status.busy": "2024-10-29T20:48:54.648621Z",
     "iopub.status.idle": "2024-10-29T20:48:55.735977Z",
     "shell.execute_reply": "2024-10-29T20:48:55.734903Z"
    },
    "papermill": {
     "duration": 1.104332,
     "end_time": "2024-10-29T20:48:55.738554",
     "exception": false,
     "start_time": "2024-10-29T20:48:54.634222",
     "status": "completed"
    },
    "tags": []
   },
   "outputs": [],
   "source": [
    "import kaggle_evaluation.mcts_inference_server"
   ]
  },
  {
   "cell_type": "markdown",
   "id": "aa1fcd03",
   "metadata": {
    "papermill": {
     "duration": 0.002783,
     "end_time": "2024-10-29T20:48:55.744517",
     "exception": false,
     "start_time": "2024-10-29T20:48:55.741734",
     "status": "completed"
    },
    "tags": []
   },
   "source": [
    "### Building a model\n",
    "\n",
    "This example trains a model inline, but you will probably want to train a model offline, import it, and just use the notebook for inference.\n",
    "\n",
    "It's wrapped in a function because this Code format requires you to get to the `predict` function within 15 minutes. So, if you have something expensive to do up-front (e.g., training a model, loading a model, etc.), and it will take longer than 15 minutes, those operations need to happen in the first call of `predict` so the gateway server doesn't time out."
   ]
  },
  {
   "cell_type": "code",
   "execution_count": 3,
   "id": "25bae26b",
   "metadata": {
    "_cell_guid": "b1076dfc-b9ad-4769-8c92-a6c4dae69d19",
    "_uuid": "8f2839f25d086af736a60e9eeb907d3b93b6e0e5",
    "execution": {
     "iopub.execute_input": "2024-10-29T20:48:55.752367Z",
     "iopub.status.busy": "2024-10-29T20:48:55.751769Z",
     "iopub.status.idle": "2024-10-29T20:48:55.761582Z",
     "shell.execute_reply": "2024-10-29T20:48:55.760607Z"
    },
    "papermill": {
     "duration": 0.016218,
     "end_time": "2024-10-29T20:48:55.763688",
     "exception": false,
     "start_time": "2024-10-29T20:48:55.747470",
     "status": "completed"
    },
    "tags": []
   },
   "outputs": [],
   "source": [
    "target = 'utility_agent1'\n",
    "\n",
    "def train_model():\n",
    "\n",
    "    # we'll use these in each call of `predict`\n",
    "    global obj_cols, enc, rf\n",
    "\n",
    "    train = pl.read_csv(comp_path / 'train.csv')\n",
    "    y_train = train[target]\n",
    "\n",
    "    cols_to_drop = ['num_draws_agent1', 'num_losses_agent1', 'num_wins_agent1', target]\n",
    "    train = train.drop(cols_to_drop)\n",
    "    \n",
    "    obj_cols =  train.select(pl.col(pl.String)).columns\n",
    "    \n",
    "    enc = OrdinalEncoder(\n",
    "        handle_unknown='use_encoded_value', unknown_value=-999, encoded_missing_value=-9999)\n",
    "    enc.fit(train[obj_cols])\n",
    "    train_transformed = enc.transform(train[obj_cols])\n",
    "    for e, c in enumerate(obj_cols):\n",
    "        train = train.with_columns(pl.Series(c, train_transformed[:, e]))\n",
    "    \n",
    "    rf = RandomForestRegressor(n_estimators=100, max_depth=5, n_jobs=-1)\n",
    "    rf.fit(train, y_train)"
   ]
  },
  {
   "cell_type": "markdown",
   "id": "b7e1a179",
   "metadata": {
    "papermill": {
     "duration": 0.002674,
     "end_time": "2024-10-29T20:48:55.769428",
     "exception": false,
     "start_time": "2024-10-29T20:48:55.766754",
     "status": "completed"
    },
    "tags": []
   },
   "source": [
    "### Inference should be in a function named `predict` as similar to the following:\n",
    "\n",
    "If you're not doing anything \"expensive\" in the first `predict` call, you don't technically need the counter code."
   ]
  },
  {
   "cell_type": "code",
   "execution_count": 4,
   "id": "bfba5a70",
   "metadata": {
    "execution": {
     "iopub.execute_input": "2024-10-29T20:48:55.777048Z",
     "iopub.status.busy": "2024-10-29T20:48:55.776269Z",
     "iopub.status.idle": "2024-10-29T20:48:55.782741Z",
     "shell.execute_reply": "2024-10-29T20:48:55.781711Z"
    },
    "papermill": {
     "duration": 0.012759,
     "end_time": "2024-10-29T20:48:55.785037",
     "exception": false,
     "start_time": "2024-10-29T20:48:55.772278",
     "status": "completed"
    },
    "tags": []
   },
   "outputs": [],
   "source": [
    "counter = 0\n",
    "def predict(test, submission):\n",
    "    global counter\n",
    "    if counter == 0:\n",
    "        # Perform any additional slow steps in the first call to `predict`\n",
    "        train_model()\n",
    "    counter += 1    \n",
    "    test_transformed = enc.transform(test[obj_cols])\n",
    "    for e, c in enumerate(obj_cols):\n",
    "        test = test.with_columns(pl.Series(c, test_transformed[:, e]))\n",
    "    return submission.with_columns(pl.Series(target, rf.predict(test)))"
   ]
  },
  {
   "cell_type": "markdown",
   "id": "20aa57de",
   "metadata": {
    "papermill": {
     "duration": 0.002735,
     "end_time": "2024-10-29T20:48:55.791026",
     "exception": false,
     "start_time": "2024-10-29T20:48:55.788291",
     "status": "completed"
    },
    "tags": []
   },
   "source": [
    "### Calling the gateway server\n",
    "\n",
    "You must run the cell below within 15 minutes of the notebook re-run or the gateway will throw an error. If you need more than 15 minutes time to load your model, train your model, etc, you should do it during the very first `predict` call, as shown previously."
   ]
  },
  {
   "cell_type": "code",
   "execution_count": 5,
   "id": "f27984cc",
   "metadata": {
    "execution": {
     "iopub.execute_input": "2024-10-29T20:48:55.798568Z",
     "iopub.status.busy": "2024-10-29T20:48:55.797816Z",
     "iopub.status.idle": "2024-10-29T20:54:52.569088Z",
     "shell.execute_reply": "2024-10-29T20:54:52.567895Z"
    },
    "papermill": {
     "duration": 356.778027,
     "end_time": "2024-10-29T20:54:52.571869",
     "exception": false,
     "start_time": "2024-10-29T20:48:55.793842",
     "status": "completed"
    },
    "tags": []
   },
   "outputs": [],
   "source": [
    "inference_server = kaggle_evaluation.mcts_inference_server.MCTSInferenceServer(predict)\n",
    "\n",
    "if os.getenv('KAGGLE_IS_COMPETITION_RERUN'):\n",
    "    inference_server.serve()\n",
    "else:\n",
    "    inference_server.run_local_gateway(\n",
    "        (\n",
    "            '/kaggle/input/um-game-playing-strength-of-mcts-variants/test.csv',\n",
    "            '/kaggle/input/um-game-playing-strength-of-mcts-variants/sample_submission.csv'\n",
    "        )\n",
    "    )"
   ]
  },
  {
   "cell_type": "markdown",
   "id": "04a37f82",
   "metadata": {
    "papermill": {
     "duration": 0.002727,
     "end_time": "2024-10-29T20:54:52.578060",
     "exception": false,
     "start_time": "2024-10-29T20:54:52.575333",
     "status": "completed"
    },
    "tags": []
   },
   "source": [
    "Note that nothing past `inference_server.serve()` will be run when your submission is evaluated on the hidden test set."
   ]
  }
 ],
 "metadata": {
  "kaggle": {
   "accelerator": "none",
   "dataSources": [
    {
     "databundleVersionId": 9515283,
     "sourceId": 70089,
     "sourceType": "competition"
    }
   ],
   "dockerImageVersionId": 30761,
   "isGpuEnabled": false,
   "isInternetEnabled": false,
   "language": "python",
   "sourceType": "notebook"
  },
  "kernelspec": {
   "display_name": "Python 3",
   "language": "python",
   "name": "python3"
  },
  "language_info": {
   "codemirror_mode": {
    "name": "ipython",
    "version": 3
   },
   "file_extension": ".py",
   "mimetype": "text/x-python",
   "name": "python",
   "nbconvert_exporter": "python",
   "pygments_lexer": "ipython3",
   "version": "3.10.14"
  },
  "papermill": {
   "default_parameters": {},
   "duration": 363.493417,
   "end_time": "2024-10-29T20:54:53.504184",
   "environment_variables": {},
   "exception": null,
   "input_path": "__notebook__.ipynb",
   "output_path": "__notebook__.ipynb",
   "parameters": {},
   "start_time": "2024-10-29T20:48:50.010767",
   "version": "2.6.0"
  }
 },
 "nbformat": 4,
 "nbformat_minor": 5
}
